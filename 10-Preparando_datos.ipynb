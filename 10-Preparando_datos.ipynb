{
 "cells": [
  {
   "attachments": {},
   "cell_type": "markdown",
   "metadata": {},
   "source": [
    "<a href=\"https://colab.research.google.com/github/acubillosunal/UBM-MACHINE-LEARNING-1/blob/main/10-Preparando_datos.ipynb\" target=\"_parent\"><img src=\"https://colab.research.google.com/assets/colab-badge.svg\" alt=\"Open In Colab\"/></a>\n",
    "\n",
    "\n",
    "**Recuerda que una vez abierto, Da clic en \"Copiar en Drive\", de lo contrario no podras alamancenar tu progreso**\n",
    "\n",
    "Nota: no olvide ir ejecutando las celdas de código de arriba hacia abajo para que no tenga errores de importación de librerías o por falta de definición de variables."
   ]
  },
  {
   "cell_type": "code",
   "execution_count": null,
   "metadata": {},
   "outputs": [],
   "source": [
    "!wget --no-cache -O init.py -q https://raw.githubusercontent.com/alfonsocude/MACHINE-LEARNING-1/main/init.py\n",
    "import init; init.init(force_download=False);  "
   ]
  },
  {
   "cell_type": "markdown",
   "metadata": {},
   "source": [
    "## **Preparando los datos**\n",
    "\n",
    "Con algunas líneas de código, debemos ser capaces de dejar nuestros datos listos para el análisis"
   ]
  },
  {
   "cell_type": "markdown",
   "metadata": {},
   "source": [
    "### **Limpiando datos**\n",
    "\n",
    "Para ser útil para la mayoría de las tareas de analítica, los datos deben estar limpios. Esto significa que debe ser coherente, relevante y estandarizado. Para ello se recomienda\n",
    "* Remover los outliers (datos atípicos);\n",
    "* Remover valores inapropiados;\n",
    "* Remover valores duplicados;\n",
    "* Remover puntuación;\n",
    "* Remover espacios en blanco;\n",
    "* Estandarizar datos; y \n",
    "* Estandarizar texto."
   ]
  },
  {
   "cell_type": "markdown",
   "metadata": {},
   "source": [
    "### **Calculando y removiendo outliers**\n",
    "\n",
    "Encontrar los valores atípicos le permite eliminar los valores que son tan altos o tan bajos que sesgan la vista general de los datos.\n",
    "\n",
    "Vamos a considerar dos formas principales de detectar outliers:\n",
    "\n",
    "### **1. Desviación Estándar**: \n",
    "Si los datos están normalmente distribuidos, entonces el 95% de los datos están dentro de 1.96 desviaciones estándar de la media. Entonces podemos eliminar los valores por encima o por debajo de ese rango.\n",
    "\n",
    "### **2. Rango Intercuartílico ($IQR$, por sus siglas en inglés)**:\n",
    " El IQR es la diferencia entre el cuartíl $Q_1$ y el cuartíl $Q_3$, cualquier valor que esté por debajo de $Q_1 - 1.5IQR$ o mayor que $Q_3 + 1.5IQR$ son tratados como outliers y son removidos.\n",
    "\n",
    "\n",
    "\n",
    "\n"
   ]
  },
  {
   "cell_type": "markdown",
   "metadata": {},
   "source": [
    "### **Método 1. Desviación Estándar**"
   ]
  },
  {
   "cell_type": "code",
   "execution_count": null,
   "metadata": {},
   "outputs": [],
   "source": [
    "import numpy as np \n",
    "import pandas as pd \n",
    "import matplotlib.pyplot as plt \n",
    "import seaborn as sns"
   ]
  },
  {
   "cell_type": "code",
   "execution_count": null,
   "metadata": {},
   "outputs": [],
   "source": [
    "df = pd.read_csv('local/data/gradedata.csv')\n",
    "df.head()"
   ]
  },
  {
   "cell_type": "code",
   "execution_count": null,
   "metadata": {},
   "outputs": [],
   "source": [
    "df.shape"
   ]
  },
  {
   "cell_type": "code",
   "execution_count": null,
   "metadata": {},
   "outputs": [],
   "source": [
    "sns.histplot(x = df['grade'], data= df)"
   ]
  },
  {
   "cell_type": "code",
   "execution_count": null,
   "metadata": {},
   "outputs": [],
   "source": [
    "meangrade = df['grade'].mean() #Calculamos la media de la columna 'grade'\n",
    "stdgrade = df['grade'].std() #Calculamos la desviación estándar de la columna 'grade'\n",
    "toprange = meangrade + 1.96*stdgrade #El máximo del rango intercuartílico\n",
    "botrange = meangrade - 1.96*stdgrade #El míximo del rango intercuartílico\n",
    "copydf = df #Se genera un nuevo DataFrame\n",
    "copydf = copydf.drop(copydf[copydf['grade']> toprange].index) #Se eliminan los datos que cumplen la condición (oputliers por arriba)\n",
    "copydf = copydf.drop(copydf[copydf['grade']< botrange].index)\n",
    "copydf.shape #Se eliminan los datos que cumplen la condición (outliers por abajo)\n",
    "copydf.head()"
   ]
  },
  {
   "cell_type": "code",
   "execution_count": null,
   "metadata": {},
   "outputs": [],
   "source": [
    "copydf.shape"
   ]
  },
  {
   "cell_type": "code",
   "execution_count": null,
   "metadata": {},
   "outputs": [],
   "source": [
    "sns.histplot(x = copydf['grade'], data= copydf)"
   ]
  },
  {
   "cell_type": "markdown",
   "metadata": {},
   "source": [
    "### **Metodo 2. Rango Intercuartílico**"
   ]
  },
  {
   "cell_type": "code",
   "execution_count": null,
   "metadata": {},
   "outputs": [],
   "source": [
    "q1 = df['grade'].quantile(.25)\n",
    "q3 = df['grade'].quantile(.75)\n",
    "iqr = q3 - q1\n",
    "toprange_q = q3 + iqr*1.5\n",
    "botrange_q = q1 - iqr*1.5\n",
    "copydf_q = df\n",
    "copydf_q = copydf_q.drop(copydf_q[copydf_q['grade']>toprange_q].index)\n",
    "copydf_q = copydf_q.drop(copydf_q[copydf_q['grade']<botrange_q].index)\n",
    "copydf_q.head()"
   ]
  },
  {
   "cell_type": "code",
   "execution_count": null,
   "metadata": {},
   "outputs": [],
   "source": [
    "copydf_q.shape"
   ]
  },
  {
   "cell_type": "code",
   "execution_count": null,
   "metadata": {},
   "outputs": [],
   "source": [
    "sns.histplot(x = copydf_q['grade'], data= copydf_q)"
   ]
  },
  {
   "cell_type": "markdown",
   "metadata": {},
   "source": [
    "## **Datos faltantes en DataFrames de Pandas**\n",
    "\n",
    "Una de las cosas que más incomoda al trabajar con grandes volumenes de datos es encontrar el dato que falta. Puede hacer que sea imposible o impredecible de calcular la mayoría de las estadísticas agregadas o generar tablas dinámicas.\n",
    "\n",
    "Pandas posee funciones que ayudan a hallar, borrar y cambiar los datos faltantes."
   ]
  },
  {
   "cell_type": "code",
   "execution_count": null,
   "metadata": {},
   "outputs": [],
   "source": [
    "df1 = pd.read_csv('local/data/gradedatamissing.csv')\n",
    "df1.head()"
   ]
  },
  {
   "cell_type": "code",
   "execution_count": null,
   "metadata": {},
   "outputs": [],
   "source": [
    "df1.shape"
   ]
  },
  {
   "cell_type": "markdown",
   "metadata": {},
   "source": [
    "Primero determinamos si exisen datos NAN en el DataFrame"
   ]
  },
  {
   "cell_type": "code",
   "execution_count": null,
   "metadata": {},
   "outputs": [],
   "source": [
    "df1.isna().sum().sum()"
   ]
  },
  {
   "cell_type": "markdown",
   "metadata": {},
   "source": [
    "Para eliminar todas las columnas con datos faltantes (NaN), usamos las siguiente función"
   ]
  },
  {
   "cell_type": "code",
   "execution_count": null,
   "metadata": {},
   "outputs": [],
   "source": [
    "df1_no_missing = df1.dropna()\n",
    "df1_no_missing"
   ]
  },
  {
   "cell_type": "code",
   "execution_count": null,
   "metadata": {},
   "outputs": [],
   "source": [
    "df1_no_missing.shape"
   ]
  },
  {
   "cell_type": "code",
   "execution_count": null,
   "metadata": {},
   "outputs": [],
   "source": [
    "df1.dropna(axis= 1, how= 'all')"
   ]
  },
  {
   "cell_type": "code",
   "execution_count": null,
   "metadata": {},
   "outputs": [],
   "source": [
    "df1.fillna(0)"
   ]
  },
  {
   "cell_type": "code",
   "execution_count": null,
   "metadata": {},
   "outputs": [],
   "source": [
    "df1['grade'].fillna(df1['grade'].mean(), inplace=True)\n",
    "df1"
   ]
  },
  {
   "cell_type": "code",
   "execution_count": null,
   "metadata": {},
   "outputs": [],
   "source": [
    "df1['grade'].fillna(df1.groupby('gender')['grade'].transform('mean'), inplace= True)\n",
    "df1.head()"
   ]
  },
  {
   "cell_type": "code",
   "execution_count": null,
   "metadata": {},
   "outputs": [],
   "source": [
    "df1[df1['age'].notnull() & df1['gender'].notnull()]"
   ]
  },
  {
   "cell_type": "markdown",
   "metadata": {},
   "source": [
    "# **Responder las siguientes preguntas**"
   ]
  },
  {
   "cell_type": "markdown",
   "metadata": {},
   "source": [
    "Se desea registrar nuevos datos a la base de datos original, se proporcionan a continuación:"
   ]
  },
  {
   "cell_type": "code",
   "execution_count": null,
   "metadata": {},
   "outputs": [],
   "source": [
    "fname = ['Bob','Jessica','Mary','John','Mel']\n",
    "lname = ['Smith', 'Pitt', 'Parker', 'Cage', 'Lynch']\n",
    "gender = ['male', 'female', 'female', 'male', 'male']\n",
    "age = [18.0, 16.0, 17.0, 19.0, 17.0]\n",
    "exercise = [2.0, 1.0, 4.0, 3.0, 1.0]\n",
    "hours = [1.0, 8.0, 17.0, 14.0, 9.0]\n",
    "grades = [76,-2,77,78,101]\n",
    "address = ['8839 Marshall St., Miami, FL 35125', '33 Spring Dr., Taunton, MA 02710',\n",
    "            '30 Glenridge Rd., Bountiful, UT 84510', '942 West Street, Alexandria, VA 22304',\n",
    "            '85 Homestead Drive, Voorhees, NJ 08043']"
   ]
  },
  {
   "cell_type": "code",
   "execution_count": null,
   "metadata": {},
   "outputs": [],
   "source": [
    "data1 = {'fname' : ['Bob','Jessica','Mary','John','Mel'], \n",
    "         'lname' : ['Smith', 'Pitt', 'Parker', 'Cage', 'Lynch'], \n",
    "         'gender' : ['male', 'female', 'female', 'male', 'male'],\n",
    "         'age' : [18.0, 16.0, 17.0, 19.0, 17.0],\n",
    "         'exercise' : [2.0, 1.0, 4.0, 3.0, 1.0],\n",
    "         'hours' : [1.0, 8.0, 17.0, 14.0, 9.0],\n",
    "         'grade' : [76.0,-2.0,77.0,78.0,101.0],\n",
    "         'address' : ['8839 Marshall St., Miami, FL 35125', '33 Spring Dr., Taunton, MA 02710',\n",
    "            '30 Glenridge Rd., Bountiful, UT 84510', '942 West Street, Alexandria, VA 22304',\n",
    "            '85 Homestead Drive, Voorhees, NJ 08043']\n",
    "         }"
   ]
  },
  {
   "cell_type": "markdown",
   "metadata": {},
   "source": [
    "Genere un nuevo DataFrame con los nuevos datos y los originales."
   ]
  },
  {
   "cell_type": "code",
   "execution_count": null,
   "metadata": {},
   "outputs": [],
   "source": []
  },
  {
   "cell_type": "markdown",
   "metadata": {},
   "source": [
    "¿Hay datos que no tienen sentido en el nuevo DataFrame, si se sabe que el rango de notas es de 0 a 100? Si es así filtre la base de datos para inidcar dichos valores."
   ]
  },
  {
   "cell_type": "code",
   "execution_count": null,
   "metadata": {},
   "outputs": [],
   "source": []
  },
  {
   "cell_type": "markdown",
   "metadata": {},
   "source": [
    "Modifique los datos extraños de tal manera que tengan sentido en el rango de notas estipulado. Justifique su elección."
   ]
  },
  {
   "cell_type": "code",
   "execution_count": null,
   "metadata": {},
   "outputs": [],
   "source": []
  },
  {
   "cell_type": "markdown",
   "metadata": {},
   "source": [
    "¿Cuál es el procentaje de hombres y mujeres que respondieron los ejercicios?"
   ]
  },
  {
   "cell_type": "code",
   "execution_count": null,
   "metadata": {},
   "outputs": [],
   "source": []
  },
  {
   "cell_type": "markdown",
   "metadata": {},
   "source": [
    "¿Cuál es la edad predominante en el grupo de estudiantes que presentaron los ejercicios?"
   ]
  },
  {
   "cell_type": "code",
   "execution_count": null,
   "metadata": {},
   "outputs": [],
   "source": []
  },
  {
   "cell_type": "markdown",
   "metadata": {},
   "source": [
    "Realice un estudio de los puntos atípos de las columnas 'age', 'exercise' y 'hours'. ¿Qué puede concluir?"
   ]
  },
  {
   "cell_type": "code",
   "execution_count": null,
   "metadata": {},
   "outputs": [],
   "source": []
  },
  {
   "cell_type": "markdown",
   "metadata": {},
   "source": [
    "Determine si hay una relación entre los ejercicios respondidos y las calificaciones"
   ]
  },
  {
   "cell_type": "code",
   "execution_count": null,
   "metadata": {},
   "outputs": [],
   "source": []
  },
  {
   "cell_type": "markdown",
   "metadata": {},
   "source": [
    "¿En base a los datos se podría indicar si los hombres o las mujeres tienen mejores notas?"
   ]
  },
  {
   "cell_type": "code",
   "execution_count": null,
   "metadata": {},
   "outputs": [],
   "source": []
  }
 ],
 "metadata": {
  "kernelspec": {
   "display_name": "base",
   "language": "python",
   "name": "python3"
  },
  "language_info": {
   "codemirror_mode": {
    "name": "ipython",
    "version": 3
   },
   "file_extension": ".py",
   "mimetype": "text/x-python",
   "name": "python",
   "nbconvert_exporter": "python",
   "pygments_lexer": "ipython3",
   "version": "3.9.12 (main, Apr  5 2022, 06:56:58) \n[GCC 7.5.0]"
  },
  "orig_nbformat": 4,
  "vscode": {
   "interpreter": {
    "hash": "4a86262a84c89eb5e2f9fa7ccca1fd520c0f88913a624a47ee78e08ae14b068c"
   }
  }
 },
 "nbformat": 4,
 "nbformat_minor": 2
}
