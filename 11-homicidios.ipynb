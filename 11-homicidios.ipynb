{
 "cells": [
  {
   "attachments": {},
   "cell_type": "markdown",
   "metadata": {},
   "source": [
    "<a href=\"https://colab.research.google.com/github/acubillosunal/UBM-MACHINE-LEARNING-1/blob/main/11-homicidios.ipynb\" target=\"_parent\"><img src=\"https://colab.research.google.com/assets/colab-badge.svg\" alt=\"Open In Colab\"/></a>\n",
    "\n",
    "\n",
    "**Recuerda que una vez abierto, Da clic en \"Copiar en Drive\", de lo contrario no podras alamancenar tu progreso**\n",
    "\n",
    "Nota: no olvide ir ejecutando las celdas de código de arriba hacia abajo para que no tenga errores de importación de librerías o por falta de definición de variables."
   ]
  },
  {
   "cell_type": "code",
   "execution_count": 1,
   "metadata": {},
   "outputs": [
    {
     "name": "stderr",
     "output_type": "stream",
     "text": [
      "'wget' is not recognized as an internal or external command,\n",
      "operable program or batch file.\n"
     ]
    }
   ],
   "source": [
    "!wget --no-cache -O init.py -q https://raw.githubusercontent.com/alfonsocude/MACHINE-LEARNING-1/main/init.py\n",
    "import init; init.init(force_download=False);  "
   ]
  },
  {
   "cell_type": "markdown",
   "metadata": {},
   "source": [
    "# Data Lesiones Homicidios"
   ]
  },
  {
   "cell_type": "code",
   "execution_count": null,
   "metadata": {},
   "outputs": [],
   "source": [
    "import pandas as pd\n",
    "import numpy as np\n",
    "import os\n",
    "from datetime import datetime\n",
    "from unidecode import unidecode"
   ]
  },
  {
   "cell_type": "code",
   "execution_count": null,
   "metadata": {},
   "outputs": [],
   "source": [
    "files_1 = ['./local/data/homicidios/' + str(i) + '.xlsx' for i in range(2010, 2013)]\n",
    "files_2 = ['./local/data/homicidios/' + str(i) + '.xls' for i in range(2013, 2020)]\n",
    "files = files_1+files_2\n",
    "print(files)"
   ]
  },
  {
   "cell_type": "code",
   "execution_count": null,
   "metadata": {},
   "outputs": [],
   "source": [
    "files"
   ]
  },
  {
   "cell_type": "code",
   "execution_count": null,
   "metadata": {},
   "outputs": [],
   "source": [
    "all_dfs = []\n",
    "\n",
    "for file in files:\n",
    "    temp = pd.read_excel(file)\n",
    "    \n",
    "    # Eliminar acentos en el nombre de las columnas\n",
    "    temp.columns = [unidecode(str(col)) for col in temp.columns]\n",
    "\n",
    "    # Reemplazar espacios por _\n",
    "    temp.columns = temp.columns.str.replace(' ', '_')\n",
    "    \n",
    "    # Strip\n",
    "    temp.columns = temp.columns.str.strip()\n",
    "\n",
    "    # Convierte todas las letras en minúsculas\n",
    "    temp.columns = temp.columns.str.lower()\n",
    "\n",
    "    # Reemplazar NaN, None\n",
    "    temp.replace('-', np.nan, inplace=True)\n",
    "\n",
    "    # Set axis name\n",
    "    temp.rename_axis('id', inplace=True)\n",
    "    \n",
    "    all_dfs.append(temp)"
   ]
  },
  {
   "cell_type": "code",
   "execution_count": null,
   "metadata": {},
   "outputs": [],
   "source": [
    "all_dfs"
   ]
  },
  {
   "cell_type": "code",
   "execution_count": null,
   "metadata": {},
   "outputs": [],
   "source": [
    "renaming={\n",
    "    'clase_sitio':'clase_de_sitio',\n",
    "    'pais_nace':'pais_de_nacimiento',\n",
    "    'clase_empleado':'clase_de_empleado'\n",
    "}\n",
    "\n",
    "for i in range(len(all_dfs)):\n",
    "    all_dfs[i].rename(columns=renaming, inplace=True)\n",
    "    \n",
    "df_f = pd.concat(all_dfs, axis=0)"
   ]
  },
  {
   "cell_type": "code",
   "execution_count": null,
   "metadata": {},
   "outputs": [],
   "source": [
    "df_f # also try: .describe"
   ]
  },
  {
   "cell_type": "code",
   "execution_count": null,
   "metadata": {},
   "outputs": [],
   "source": [
    "df_f.isnull().sum()"
   ]
  },
  {
   "cell_type": "code",
   "execution_count": null,
   "metadata": {},
   "outputs": [],
   "source": [
    "df_f.drop(columns=['2010','2011','2012','profesion'], inplace=True)"
   ]
  },
  {
   "cell_type": "code",
   "execution_count": null,
   "metadata": {},
   "outputs": [],
   "source": [
    "df_f"
   ]
  },
  {
   "cell_type": "code",
   "execution_count": null,
   "metadata": {},
   "outputs": [],
   "source": [
    "df_f = df_f.reset_index()"
   ]
  },
  {
   "cell_type": "code",
   "execution_count": null,
   "metadata": {},
   "outputs": [],
   "source": [
    "df_f"
   ]
  },
  {
   "cell_type": "code",
   "execution_count": null,
   "metadata": {},
   "outputs": [],
   "source": [
    "df_f.drop(columns=['id'], inplace=True)"
   ]
  },
  {
   "cell_type": "code",
   "execution_count": null,
   "metadata": {},
   "outputs": [],
   "source": [
    "df_f"
   ]
  },
  {
   "cell_type": "code",
   "execution_count": null,
   "metadata": {},
   "outputs": [],
   "source": [
    "df_f = df_f[df_f.isnull().sum(axis=1) < 5]"
   ]
  },
  {
   "cell_type": "code",
   "execution_count": null,
   "metadata": {},
   "outputs": [],
   "source": [
    "df_f"
   ]
  },
  {
   "cell_type": "code",
   "execution_count": null,
   "metadata": {},
   "outputs": [],
   "source": [
    "df_f.isnull().sum()"
   ]
  },
  {
   "cell_type": "code",
   "execution_count": null,
   "metadata": {},
   "outputs": [],
   "source": [
    "df_f.hora = pd.to_datetime(df_f.hora, format='%H:%M:%S')\n",
    "df_f.fecha = pd.to_datetime(df_f.fecha, format = '%Y- %m - %d %H:%M:%S')\n",
    "df_f['year'] = df_f.fecha.dt.year\n",
    "df_f['hora_int'] = df_f.hora.dt.hour"
   ]
  },
  {
   "cell_type": "code",
   "execution_count": null,
   "metadata": {},
   "outputs": [],
   "source": [
    "df_f.edad.replace('NO REPORTADO', np.nan, inplace=True)"
   ]
  },
  {
   "cell_type": "code",
   "execution_count": null,
   "metadata": {},
   "outputs": [],
   "source": [
    "df_f.edad = df_f.edad.astype(float)"
   ]
  },
  {
   "cell_type": "code",
   "execution_count": null,
   "metadata": {},
   "outputs": [],
   "source": [
    "df_f.municipio.replace(' \\(CT\\)', '', regex=True, inplace=True)\n",
    "df_f.municipio.replace('BOGOTÁ', 'BOGOTA D.C', inplace=True)\n",
    "df_f.departamento.replace('BOGOTÁ', 'BOGOTA D.C', inplace=True)\n",
    "df_f.departamento.replace('GUAJIRA', 'LA GUAJIRA', inplace=True)\n",
    "df_f.departamento.replace('VALLE', 'VALLE DEL CAUCA', inplace=True)\n",
    "df_f.departamento.replace('NARIÑO', 'NARINO', inplace=True)"
   ]
  },
  {
   "cell_type": "code",
   "execution_count": null,
   "metadata": {},
   "outputs": [],
   "source": [
    "for col in df_f.columns:\n",
    "    print(col)\n",
    "    print(df_f[col].unique())"
   ]
  },
  {
   "cell_type": "markdown",
   "metadata": {},
   "source": [
    "# EDA"
   ]
  },
  {
   "cell_type": "code",
   "execution_count": null,
   "metadata": {},
   "outputs": [],
   "source": [
    "df_f.columns"
   ]
  },
  {
   "cell_type": "code",
   "execution_count": null,
   "metadata": {},
   "outputs": [],
   "source": [
    "import seaborn as sns\n",
    "import matplotlib as mpl\n",
    "import matplotlib.pyplot as plt\n",
    "\n",
    "mpl.rcParams['axes.labelsize'] = 14\n",
    "mpl.rcParams['xtick.labelsize'] = 14\n",
    "# mpl.rcParams.keys()\n",
    "sns.set_palette('Accent')"
   ]
  },
  {
   "cell_type": "code",
   "execution_count": null,
   "metadata": {},
   "outputs": [],
   "source": [
    "plt.figure(figsize=(16,9))\n",
    "ax = sns.lineplot(\n",
    "                    data=df_f.groupby('fecha').apply(lambda df: df.sexo.value_counts()).reset_index(),\n",
    "                    x='fecha',\n",
    "                    y='sexo',\n",
    "                    hue='level_1'\n",
    "                 )\n",
    " \n",
    "ax.set_title('Time Series Total Cases Per Day');\n",
    "ax.legend(['Male', 'Female', 'Not Found']);"
   ]
  },
  {
   "cell_type": "code",
   "execution_count": null,
   "metadata": {},
   "outputs": [],
   "source": [
    "sns.set_style('whitegrid')\n",
    "plt.figure(figsize=(16,9))\n",
    "ax = sns.countplot(# count plot can be thought of as a histogram across a categorical, instead of quantitative, variable.\n",
    "                   data = df_f,\n",
    "                   x='year',\n",
    "                   hue='sexo'\n",
    "                  )\n",
    "\n",
    "ax.set_title('Counts per Year');\n",
    "ax.legend(['Mascullino', 'Femenino']);\n",
    "\n",
    "plt.savefig('figura1.png')"
   ]
  },
  {
   "cell_type": "code",
   "execution_count": null,
   "metadata": {},
   "outputs": [],
   "source": [
    "plt.figure(figsize=(16,9))\n",
    "ax = sns.countplot(\n",
    "                    data=df_f,\n",
    "                    x='departamento'\n",
    ")\n",
    "\n",
    "plt.xticks(rotation=45,ha='right');"
   ]
  },
  {
   "cell_type": "code",
   "execution_count": null,
   "metadata": {},
   "outputs": [],
   "source": [
    "plt.figure(figsize=(16,9))\n",
    "\n",
    "order = ['Lunes', 'Martes', 'Miércoles', 'Jueves', 'Viernes', 'Sábado', 'Domingo']\n",
    "ax = sns.countplot(\n",
    "                   data=df_f,\n",
    "                   x='dia',\n",
    "                   order=order\n",
    "                  )"
   ]
  },
  {
   "cell_type": "code",
   "execution_count": null,
   "metadata": {},
   "outputs": [],
   "source": [
    "plt.figure(figsize=(16,9))\n",
    "ax = sns.countplot(\n",
    "    data=df_f,\n",
    "    x='zona',\n",
    ")"
   ]
  },
  {
   "cell_type": "code",
   "execution_count": null,
   "metadata": {},
   "outputs": [],
   "source": [
    "plt.figure(figsize=(16,9))\n",
    "\n",
    "sns.barplot(\n",
    "    data=df_f.clase_de_sitio.value_counts().head(10).to_frame(name='count').reset_index(),\n",
    "    x='index',\n",
    "    y='count'\n",
    ") \n",
    "\n",
    "plt.xticks(rotation=45, ha='right');"
   ]
  },
  {
   "cell_type": "code",
   "execution_count": null,
   "metadata": {},
   "outputs": [],
   "source": [
    "plt.figure(figsize=(16,9))\n",
    "\n",
    "sns.countplot(\n",
    "    data=df_f,\n",
    "    x='escolaridad',\n",
    ");"
   ]
  },
  {
   "cell_type": "code",
   "execution_count": null,
   "metadata": {},
   "outputs": [],
   "source": [
    "plt.figure(figsize=(16,9))\n",
    "\n",
    "sns.countplot(\n",
    "    data=df_f,\n",
    "    x='arma_empleada',\n",
    ");\n",
    "plt.xticks(rotation=45, ha='right');"
   ]
  },
  {
   "cell_type": "code",
   "execution_count": null,
   "metadata": {},
   "outputs": [],
   "source": [
    "plt.figure(figsize=(16,9))\n",
    "\n",
    "sns.barplot(\n",
    "    data=df_f.profesiones.value_counts().to_frame('count').reset_index().head(10),\n",
    "    x='index',\n",
    "    y='count'\n",
    ") \n",
    "\n",
    "plt.xticks(rotation=45, ha='right');"
   ]
  },
  {
   "cell_type": "code",
   "execution_count": null,
   "metadata": {},
   "outputs": [],
   "source": [
    "df_f['hora']"
   ]
  },
  {
   "cell_type": "code",
   "execution_count": null,
   "metadata": {},
   "outputs": [],
   "source": [
    "plt.figure(figsize=(16,9))\n",
    "sns.countplot(\n",
    "              df_f.hora_int\n",
    "             );\n",
    "\n",
    "plt.savefig('figura_2.png')"
   ]
  },
  {
   "cell_type": "code",
   "execution_count": null,
   "metadata": {},
   "outputs": [],
   "source": [
    "plt.figure(figsize=(16,9))\n",
    "\n",
    "sns.distplot(\n",
    "    df_f.edad\n",
    ");"
   ]
  },
  {
   "cell_type": "code",
   "execution_count": null,
   "metadata": {},
   "outputs": [],
   "source": [
    "sns.set_palette('Set1')\n",
    "fig, ax = plt.subplots(figsize=(16,9))\n",
    "sns.violinplot(\n",
    "    data=df_f[df_f.sexo != \"NO REPORTA\"],\n",
    "    x='year',\n",
    "    y='hora_int',\n",
    "    hue='sexo',\n",
    "    ax=ax,\n",
    "    split=True,\n",
    "    palette=\"Accent\"\n",
    ");"
   ]
  },
  {
   "cell_type": "code",
   "execution_count": null,
   "metadata": {},
   "outputs": [],
   "source": [
    "fig, ax = plt.subplots(5, 1, figsize=(16,20), sharex=True)\n",
    "i=0\n",
    "for year in np.arange(2015,2020):\n",
    "    sns.distplot(\n",
    "        df_f.loc[((df_f.sexo == 'MASCULINO') & (df_f.year == year)), 'hora_int'],\n",
    "        bins=20,\n",
    "        color='limegreen',\n",
    "        label='Male',\n",
    "        ax=ax[i]\n",
    "    )\n",
    "\n",
    "    sns.distplot(\n",
    "        df_f.loc[((df_f.sexo == 'FEMENINO') & (df_f.year == year)), 'hora_int'],\n",
    "        bins=20,\n",
    "        color='orchid',\n",
    "        label='Female',\n",
    "        ax=ax[i]\n",
    "    )\n",
    "    ax[i].set_title(str(year))\n",
    "    ax[i].set_xlabel('')\n",
    "    i+=1\n",
    "\n",
    "ax[0].legend()\n",
    "ax[-1].set_xlabel('Hora Del Incidente');"
   ]
  },
  {
   "cell_type": "markdown",
   "metadata": {},
   "source": [
    "## Maps of counts"
   ]
  },
  {
   "cell_type": "code",
   "execution_count": null,
   "metadata": {},
   "outputs": [],
   "source": [
    "import json\n",
    "\n",
    "with open('./local/data/geojson_departamentos.json', 'r') as f:\n",
    "    departamentos = json.load(f)\n",
    "    \n",
    "areas = pd.read_json('./local/data/areas_departamentos.json',\n",
    "                     orient='index')\n",
    "# with open('./data/geoJson_departamentos.json', 'w') as f:\n",
    "#     json.dump(departamentos, f)\n",
    "\n",
    "# with open('./data/areas_departamentos.json', 'w') as f:\n",
    "#     json.dump(areas, f)"
   ]
  },
  {
   "cell_type": "code",
   "execution_count": null,
   "metadata": {},
   "outputs": [],
   "source": [
    "import plotly.express as px"
   ]
  },
  {
   "cell_type": "code",
   "execution_count": null,
   "metadata": {},
   "outputs": [],
   "source": [
    "df_f.departamento = df_f.departamento.apply(unidecode)"
   ]
  },
  {
   "cell_type": "code",
   "execution_count": null,
   "metadata": {
    "scrolled": true
   },
   "outputs": [],
   "source": [
    "count_2019 = df_f[df_f.year == 2019].departamento.value_counts().reset_index(name='count')\n",
    "fig = px.choropleth_mapbox(\n",
    "    count_2019,\n",
    "    geojson=departamentos,\n",
    "    locations='index',\n",
    "    color='count',\n",
    "    color_continuous_scale=\"Viridis\",\n",
    "    mapbox_style=\"carto-positron\",\n",
    "    zoom=4,\n",
    "    center = {\"lat\": 3.47, \"lon\": -73.96},\n",
    "    opacity=0.5\n",
    ")\n",
    "\n",
    "fig.update_layout(margin={\"r\":0,\"t\":0,\"l\":0,\"b\":0})\n",
    "fig.show()"
   ]
  },
  {
   "cell_type": "code",
   "execution_count": null,
   "metadata": {},
   "outputs": [],
   "source": []
  },
  {
   "cell_type": "code",
   "execution_count": null,
   "metadata": {},
   "outputs": [],
   "source": []
  },
  {
   "cell_type": "code",
   "execution_count": null,
   "metadata": {},
   "outputs": [],
   "source": []
  }
 ],
 "metadata": {
  "kernelspec": {
   "display_name": "base",
   "language": "python",
   "name": "python3"
  },
  "language_info": {
   "codemirror_mode": {
    "name": "ipython",
    "version": 3
   },
   "file_extension": ".py",
   "mimetype": "text/x-python",
   "name": "python",
   "nbconvert_exporter": "python",
   "pygments_lexer": "ipython3",
   "version": "3.12.7"
  },
  "vscode": {
   "interpreter": {
    "hash": "4a86262a84c89eb5e2f9fa7ccca1fd520c0f88913a624a47ee78e08ae14b068c"
   }
  }
 },
 "nbformat": 4,
 "nbformat_minor": 4
}
