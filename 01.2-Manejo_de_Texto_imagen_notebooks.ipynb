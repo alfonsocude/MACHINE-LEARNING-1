{
  "cells": [
    {
      "attachments": {},
      "cell_type": "markdown",
      "metadata": {},
      "source": [
        "<a href=\"https://colab.research.google.com/github/acubillosunal/UBM-MACHINE-LEARNING-1/blob/main/01.2-Manejo_de_Texto_imagen_notebooks.ipynb\" target=\"_parent\"><img src=\"https://colab.research.google.com/assets/colab-badge.svg\" alt=\"Open In Colab\"/></a>\n",
        "\n",
        "\n",
        "**Recuerda que una vez abierto, Da clic en \"Copiar en Drive\", de lo contrario no podras alamancenar tu progreso**\n",
        "\n",
        "Nota: no olvide ir ejecutando las celdas de código de arriba hacia abajo para que no tenga errores de importación de librerías o por falta de definición de variables."
      ]
    },
    {
      "cell_type": "markdown",
      "metadata": {
        "id": "52abHdWo1oRj"
      },
      "source": [
        "Título"
      ]
    },
    {
      "cell_type": "markdown",
      "metadata": {
        "id": "KKEL1JSc1sB9"
      },
      "source": [
        "***\n",
        "# Título 1\n",
        "## Título 2\n",
        "### Título 3"
      ]
    },
    {
      "cell_type": "markdown",
      "metadata": {
        "id": "VdeXIGxQ17KZ"
      },
      "source": [
        "***\n",
        "# *Título 1*\n",
        "## *Título 2*\n",
        "### *Título 3*"
      ]
    },
    {
      "cell_type": "markdown",
      "metadata": {
        "id": "hC60H1KV2SLE"
      },
      "source": [
        "***\n",
        "# **Título 1**\n",
        "## **Título 2**\n",
        "### **Título 3**"
      ]
    },
    {
      "cell_type": "markdown",
      "metadata": {
        "id": "CaPgD66Y2dW8"
      },
      "source": [
        "***\n",
        "# ***Título 1***\n",
        "## ***Título 2***\n",
        "## ***Título 3***"
      ]
    },
    {
      "cell_type": "markdown",
      "metadata": {
        "id": "EQ7ITGs42sU1"
      },
      "source": [
        "***\n",
        "# **Manejo de latex**\n",
        "$x^{2}$\n",
        "$x_{5}$\n",
        "$x^{2}_{5}$\n",
        "$\\frac{2x}{2k}$\n",
        "$\\frac{\\alpha}{\\beta}$"
      ]
    },
    {
      "cell_type": "markdown",
      "metadata": {
        "id": "_41HzXjP4ZnD"
      },
      "source": [
        "$\\int_{a}^{b} x^{2} dx$"
      ]
    },
    {
      "attachments": {},
      "cell_type": "markdown",
      "metadata": {
        "id": "fJUQMEw943Rz"
      },
      "source": [
        "***\n",
        "# **imágenes**\n",
        "![imagen](https://previews.123rf.com/images/medvedsky/medvedsky1903/medvedsky190300149/119192804-cup%C3%A9-de-coche-caro-super-r%C3%A1pido-sobre-fondo-oscuro-render-3d.jpg)\n",
        "\n"
      ]
    }
  ],
  "metadata": {
    "colab": {
      "provenance": []
    },
    "kernelspec": {
      "display_name": "base",
      "language": "python",
      "name": "python3"
    },
    "language_info": {
      "name": "python",
      "version": "3.9.12 (main, Apr  5 2022, 06:56:58) \n[GCC 7.5.0]"
    },
    "vscode": {
      "interpreter": {
        "hash": "4a86262a84c89eb5e2f9fa7ccca1fd520c0f88913a624a47ee78e08ae14b068c"
      }
    }
  },
  "nbformat": 4,
  "nbformat_minor": 0
}
