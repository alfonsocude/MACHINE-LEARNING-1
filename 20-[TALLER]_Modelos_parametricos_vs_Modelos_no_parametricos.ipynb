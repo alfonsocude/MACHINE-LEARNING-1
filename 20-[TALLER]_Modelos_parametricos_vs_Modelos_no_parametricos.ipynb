{
  "cells": [
    {
      "attachments": {},
      "cell_type": "markdown",
      "metadata": {
        "id": "6GTX73NPGS91"
      },
      "source": [
        "<a href=\"https://colab.research.google.com/github/acubillosunal/UBM-MACHINE-LEARNING-1/blob/main/20-%5BTALLER%5D_Modelos_parametricos_vs_Modelos_no_parametricos.ipynb\" target=\"_parent\"><img src=\"https://colab.research.google.com/assets/colab-badge.svg\" alt=\"Open In Colab\"/></a>\n",
        "\n",
        "\n",
        "**Recuerda que una vez abierto, da clic en \"Copiar en Drive\", de lo contrario no podras alamancenar tu progreso**\n",
        "\n",
        "Nota: no olvide ir ejecutando las celdas de código de arriba hacia abajo para que no tenga errores de importación de librerías o por falta de definición de variables."
      ]
    },
    {
      "cell_type": "code",
      "execution_count": null,
      "metadata": {
        "id": "vTtlSvIgGS95"
      },
      "outputs": [],
      "source": [
        "!wget --no-cache -O init.py -q https://raw.githubusercontent.com/alfonsocude/MACHINE-LEARNING-1/main/init.py\n",
        "import init; init.init(force_download=False);  "
      ]
    },
    {
      "cell_type": "code",
      "execution_count": null,
      "metadata": {},
      "outputs": [],
      "source": [
        "pip install --upgrade scikit-learn"
      ]
    },
    {
      "cell_type": "code",
      "execution_count": 2,
      "metadata": {},
      "outputs": [],
      "source": [
        "import numpy as np\n",
        "import matplotlib.pyplot as plt\n",
        "import random"
      ]
    },
    {
      "cell_type": "markdown",
      "metadata": {
        "id": "_pbw0NZXGS96"
      },
      "source": [
        "# Taller - Parte 1\n",
        "\n",
        "**Clasificación**"
      ]
    },
    {
      "cell_type": "markdown",
      "metadata": {
        "id": "Y9s0TiaQGS96"
      },
      "source": [
        "## Ejercicio 1: Contextualización del problema\n",
        "\n",
        "\n",
        "Usaremos el dataset digits para el problema de clasificación. En el repositorio de sklearn se encuentra más información en el siguiente [link](https://scikit-learn.org/stable/modules/generated/sklearn.datasets.load_digits.html) ."
      ]
    },
    {
      "cell_type": "code",
      "execution_count": 20,
      "metadata": {
        "id": "d9D0NWJ0GS96",
        "outputId": "b355df1e-4c53-4550-df4e-e6ae3f063026"
      },
      "outputs": [],
      "source": [
        "from sklearn.datasets import load_digits\n",
        "\n",
        "digits = load_digits()\n",
        "\n",
        "x = digits.data\n",
        "y = digits.target"
      ]
    },
    {
      "cell_type": "code",
      "execution_count": 21,
      "metadata": {
        "id": "iC_CaM_HGS97",
        "outputId": "7a74ff8b-b2c8-4503-be16-6bfa37576e94"
      },
      "outputs": [
        {
          "name": "stdout",
          "output_type": "stream",
          "text": [
            "Número de muestras 1797\n",
            "Número de variables 64\n",
            "Número de clases 10\n"
          ]
        }
      ],
      "source": [
        "print (\"Número de muestras\", x.shape[0])\n",
        "print (\"Número de variables\", x.shape[1])\n",
        "print (\"Número de clases\", len(np.unique(y)))"
      ]
    },
    {
      "cell_type": "code",
      "execution_count": 17,
      "metadata": {
        "id": "xETodeVcGS97",
        "outputId": "f9638cb5-7855-42c7-d205-a9dd2999610b"
      },
      "outputs": [
        {
          "data": {
            "image/png": "[encoded data removed]",
            "text/plain": [
              "<Figure size 1080x576 with 55 Axes>"
            ]
          },
          "metadata": {},
          "output_type": "display_data"
        }
      ],
      "source": [
        "real_data = x[:44].reshape((4, 11, -1))\n",
        "fig, ax = plt.subplots(5, 11, subplot_kw=dict(xticks=[], yticks=[]),figsize=(15,8))\n",
        "for j in range(11):\n",
        "    ax[4, j].set_visible(False)\n",
        "    for i in range(4):\n",
        "        im = ax[i, j].imshow(real_data[i, j].reshape((8, 8)),\n",
        "                             cmap=plt.cm.binary, interpolation='nearest')\n",
        "        im.set_clim(0, 16)\n",
        "ax[0, 5].set_title('Selection from the input data')\n",
        "plt.show()"
      ]
    },
    {
      "cell_type": "markdown",
      "metadata": {
        "id": "fjaH89MbGS98"
      },
      "source": [
        "En un problema de clasificación de más de una clase, tener un desbalance de muestras puede ser perjudicial para el proceso de entrenamiento. Vamos a crear una función para verificar el numero de muestras por clases."
      ]
    },
    {
      "cell_type": "code",
      "execution_count": null,
      "metadata": {
        "id": "oxGaRkuJGS98"
      },
      "outputs": [],
      "source": [
        "#Ejercicio de código\n",
        "def muestras_por_clases (Y):\n",
        "    \"\"\"Funcion que calcula el numero de muestras por cada clase\n",
        "    Y: vector de numpy con las etiquetas de las muestras del conjunto X\n",
        "    retorna: diccionario [int/float:int/float] \n",
        "        con la estructura:{etiquetaclase1: numero de muestras clase1, etiquetaclase2: numero de muestras clase2}\n",
        "    \"\"\"\n",
        "    dicto = {}\n",
        "    ## Pista se puede asginar keys a diccionario: dict[etiqueta] = valor\n",
        "          \n",
        "\n",
        "    return (dicto)"
      ]
    },
    {
      "cell_type": "code",
      "execution_count": null,
      "metadata": {
        "id": "vVb6HVv5GS99"
      },
      "outputs": [],
      "source": [
        "# con esta linea de codigo puedes ver la dsitribucion de forma grafica\n",
        "fig, ax = plt.subplots()\n",
        "ax.bar(muestras_por_clases(y).keys(), muestras_por_clases(y).values())\n",
        "ax.set_title(\"numero de muestras por clase\")\n",
        "ax.set_xlabel(\"etiqueta de clase\")\n",
        "ax.set_ylabel(\"# muestras por clase\")\n",
        "ax.set_xticks(list(muestras_por_clases(y).keys()))\n",
        "plt.show()"
      ]
    },
    {
      "attachments": {},
      "cell_type": "markdown",
      "metadata": {
        "id": "cKIb6fDQGS99"
      },
      "source": [
        "## Ejercicio 2: \n",
        "\n",
        "\n",
        "Los modelos que provaremos en este taller son:\n",
        "\n",
        "- Naïve Bayes\n",
        "- Discriminante Cuadrático\n",
        "- K-NN\n"
      ]
    },
    {
      "attachments": {},
      "cell_type": "markdown",
      "metadata": {
        "id": "e9RLw3O_GS9-"
      },
      "source": [
        "En este ejercicio vamos a hacer simulaciones con los diferentes modelos y a seleccionar los hiperparámetros con mejor desempeño. Carguemos los modelos a comparar:"
      ]
    },
    {
      "cell_type": "code",
      "execution_count": 24,
      "metadata": {
        "id": "GSUJ7bBuGS9-"
      },
      "outputs": [],
      "source": [
        "from sklearn.naive_bayes import GaussianNB\n",
        "from sklearn.discriminant_analysis import QuadraticDiscriminantAnalysis\n",
        "from sklearn.neighbors import KNeighborsClassifier"
      ]
    },
    {
      "cell_type": "code",
      "execution_count": 25,
      "metadata": {
        "id": "F_26sQZJGS9_"
      },
      "outputs": [],
      "source": [
        "#Dejamos algunas muestras para el proceso de entrenamiento y otras para evaluar qué tan bueno fue el aprendizaje del modelo\n",
        "from sklearn.model_selection import train_test_split\n",
        "from sklearn.preprocessing import StandardScaler\n",
        "random.seed(1)\n",
        "Xtrain, Xtest, Ytrain, Ytest = train_test_split(x, y, test_size=0.3, random_state=1)\n",
        "\n",
        "\n",
        "#Normalizamos\n",
        "scaler = StandardScaler().fit(Xtrain)\n",
        "Xtrain = scaler.fit_transform(Xtrain)\n",
        "Xtest = scaler.transform(Xtest)"
      ]
    },
    {
      "cell_type": "markdown",
      "metadata": {
        "id": "FC5qKQ-GGS9_"
      },
      "source": [
        "Instanciamos y entrenamos los modelos para algunos hiperparámetros por defecto:"
      ]
    },
    {
      "cell_type": "code",
      "execution_count": null,
      "metadata": {
        "id": "ey9cZiOiGS9_"
      },
      "outputs": [],
      "source": [
        "clf = []\n",
        "clf.append(GaussianNB().fit(Xtrain,Ytrain))\n",
        "clf.append(QuadraticDiscriminantAnalysis().fit(Xtrain,Ytrain))\n",
        "clf.append(KNeighborsClassifier(n_neighbors=1).fit(Xtrain,Ytrain))"
      ]
    },
    {
      "cell_type": "markdown",
      "metadata": {
        "id": "2kXHbMW2GS9_"
      },
      "source": [
        "Veamos cómo se comportan para algunas muestras de test. **Ejecute la celda varias veces para observar diferentes resultados**"
      ]
    },
    {
      "cell_type": "code",
      "execution_count": null,
      "metadata": {
        "id": "FHCQLohEGS9_",
        "scrolled": false
      },
      "outputs": [],
      "source": [
        "ind = np.random.permutation(Xtest.shape[0])[0]\n",
        "print('real class')\n",
        "print(Ytest[ind])\n",
        "\n",
        "for i in range(3):\n",
        "    if i==3:\n",
        "        _,preds = clf[i].predict(Xtest[ind,:].reshape(1,-1))\n",
        "    else:\n",
        "        preds = clf[i].predict_proba(Xtest[ind,:].reshape(1,-1))\n",
        "    y_pos = np.arange(len(np.unique(y)))\n",
        "    performance = preds.flatten()\n",
        "    plt.subplot(121)\n",
        "    plt.imshow(Xtest[ind,:].reshape(8,8), cmap='gray');\n",
        "    plt.subplot(122) \n",
        "    plt.barh(y_pos, performance, align='center', alpha=0.5)\n",
        "    plt.yticks(y_pos, np.unique(y))\n",
        "    plt.xlabel('Probability')\n",
        "    plt.title('Models outputs')\n",
        "    plt.subplots_adjust(wspace = 1)\n",
        "    plt.show()"
      ]
    },
    {
      "cell_type": "markdown",
      "metadata": {
        "id": "dEEjrgJiGS9_"
      },
      "source": [
        "Evaluemos el desempeño en todo el conjunto de test para diferentes hiperparámetros"
      ]
    },
    {
      "cell_type": "code",
      "execution_count": null,
      "metadata": {
        "id": "fBKpbNGOGS-A"
      },
      "outputs": [],
      "source": [
        "#Ejercicio de código\n",
        "from sklearn.metrics import accuracy_score\n",
        "k = range(1,16)\n",
        "h = np.linspace(0.001,10,15)\n",
        "acc_knn = []\n",
        "acc_pw = []\n",
        "for i in range(len(k)):\n",
        "    clf1 = KNeighborsClassifier(n_neighbors=k[i]).fit(Xtrain,Ytrain)\n",
        "    y_pred_knn = \n",
        "    acc_knn.append(accuracy_score(Ytest,y_pred_knn)) "
      ]
    },
    {
      "cell_type": "markdown",
      "metadata": {
        "id": "ZEmDiHy4GS-A"
      },
      "source": [
        "Grafiquemos el resultado:"
      ]
    },
    {
      "cell_type": "code",
      "execution_count": null,
      "metadata": {
        "id": "nXLqRjw2GS-A"
      },
      "outputs": [],
      "source": [
        "plt.figure(figsize=(10,5))\n",
        "plt.subplot(121)\n",
        "plt.plot(k,np.array(acc_knn))\n",
        "plt.title('Desempeño para el k-nn')\n",
        "plt.xlabel('Número de vecinos')\n",
        "plt.ylabel('Exactitud')\n",
        "plt.grid()"
      ]
    },
    {
      "cell_type": "code",
      "execution_count": null,
      "metadata": {
        "id": "fRbCRASiGS-A"
      },
      "outputs": [],
      "source": [
        "print(f'Mejore resultado para k-nn {np.max(np.array(acc_knn))}')"
      ]
    },
    {
      "cell_type": "markdown",
      "metadata": {
        "id": "0AVYs64NGS-A"
      },
      "source": [
        "Mida el desempeño para los Modelos Naïve Bayes y Discriminante Cuadrático:"
      ]
    },
    {
      "cell_type": "code",
      "execution_count": null,
      "metadata": {
        "id": "lLse88WiGS-A"
      },
      "outputs": [],
      "source": [
        "#Ejercicio de código\n",
        "clf = GaussianNB().fit(Xtrain,Ytrain)\n",
        "y_pred_nb = clf.predict(Xtest)\n",
        "\n",
        "clf = QuadraticDiscriminantAnalysis().fit(Xtrain,Ytrain)\n",
        "y_pred_qd = clf.predict(Xtest)\n",
        "\n",
        "print(f'Mejore resultado para Naïve Bayes {accuracy_score(Ytest,y_pred_nb)}')\n",
        "print(f'Mejore resultado para Discriminante Cuadrático {accuracy_score(Ytest,y_pred_qd)}')"
      ]
    },
    {
      "cell_type": "code",
      "execution_count": null,
      "metadata": {
        "id": "dd_BDI8vGS-B"
      },
      "outputs": [],
      "source": [
        "#@title Pregunta Abierta\n",
        "#@markdown  ¿Cuáles tipos de modelos obtuvieron mejores resultados?\n",
        "respuesta_1 = \"\" #@param {type:\"string\"}"
      ]
    },
    {
      "cell_type": "code",
      "execution_count": null,
      "metadata": {
        "id": "5_tiZxW1GS-B"
      },
      "outputs": [],
      "source": [
        "#@title Pregunta Abierta\n",
        "#@markdown  ¿Cuál fue el modelo con peor desempeño? ¿Cuál cree que es la razón para dicho comportamiento?\n",
        "respuesta_2 = \"\" #@param {type:\"string\"}"
      ]
    },
    {
      "cell_type": "markdown",
      "metadata": {
        "id": "diXELu1dGS-B"
      },
      "source": [
        "Grafique la matriz de confusión normalizada del mejor modelo."
      ]
    },
    {
      "cell_type": "code",
      "execution_count": null,
      "metadata": {
        "id": "H4huKb1tGS-B"
      },
      "outputs": [],
      "source": [
        "#Ejercicio de código"
      ]
    },
    {
      "cell_type": "code",
      "execution_count": null,
      "metadata": {
        "id": "EhMUdxghGS-B"
      },
      "outputs": [],
      "source": [
        "#@title Integrantes\n",
        "codigo_integrante_1 ='' #@param {type:\"string\"}"
      ]
    },
    {
      "cell_type": "markdown",
      "metadata": {
        "id": "RJLf5YvWGS-C"
      },
      "source": [
        "# Taller - Parte 2\n",
        "\n",
        "**Regresión**"
      ]
    },
    {
      "cell_type": "code",
      "execution_count": 17,
      "metadata": {},
      "outputs": [],
      "source": [
        "import pandas as pd\n",
        "\n",
        "df = pd.read_csv('local/data/boston.csv')\n",
        "\n",
        "x = df.drop('MEDV', axis = 1).values\n",
        "y = df['MEDV'].values"
      ]
    },
    {
      "cell_type": "markdown",
      "metadata": {
        "id": "Z5zDNTR5GS-C"
      },
      "source": [
        "## Ejercicio 2.1: Contextualización del problema\n",
        "\n",
        "Para el problema de regresion usaremos la base de datos 'The Boston Housing Dataset', cuya descripción [pueden encontrarla aqui](https://www.cs.toronto.edu/~delve/data/boston/bostonDetail.html). La información ya esta cargada dentro del notebook"
      ]
    },
    {
      "cell_type": "code",
      "execution_count": null,
      "metadata": {
        "id": "cUZRrM3oGS-C"
      },
      "outputs": [],
      "source": [
        "print(\"muestra de los 3 primeros renglones de x:\\n\", x[0:3, :])\n",
        "print(\"muestra de los 3 primeros renglones de y:\\n\", y[0:3])\n",
        "print (\"Número de muestras\", x.shape[0])\n",
        "print (\"Número de variables\", x.shape[1])"
      ]
    },
    {
      "cell_type": "markdown",
      "metadata": {
        "id": "uKCUqbVlGS-C"
      },
      "source": [
        "En los problemas de regresión, es muy util explorar la distribución de la variable objetivo. Nuestro primer ejercicio consiste en:\n",
        "1. visualizar un histograma de la variable y \n",
        "2. retornar los intervalo de datos mas frecuente.\n",
        "\n",
        "Pistas: \n",
        "1. explorar la documentación de [plt.hist](https://matplotlib.org/3.3.1/api/_as_gen/matplotlib.pyplot.hist.html). Maneje los valores por defecto. ¿como se puede usar la salida del histograma para retorna el intervalo de datos mas frecuente?"
      ]
    },
    {
      "cell_type": "code",
      "execution_count": null,
      "metadata": {
        "id": "uKR3l9uUGS-D"
      },
      "outputs": [],
      "source": [
        "#ejercicio de código\n",
        "def plot_hist_and_get_freq_int(Y):\n",
        "    \"\"\"función que grafica el histograma de la variable 'Y'\n",
        "        y retorna el intervalo donde ocurren con mas frecuencia los\n",
        "        valores de 'Y'\n",
        "        Y: numpy array con la variable a graficar\n",
        "        retorna: una tupla (int/float, int/float, int/float) \n",
        "            el primer elemento es el limite inferior del intervalo donde ocurren los valores\n",
        "            mas frecuentes\n",
        "            el segundo elemento es el limite superior del intervalo donde ocurren los valores\n",
        "            mas frecuentes\n",
        "            el tercer elemento es la frecuencia del intervalo anterior\n",
        "            va observar un cuarto elemento a retornar, el cual es usado para confirmar que\n",
        "            se realizo la grafica correctamente\n",
        "    \"\"\"\n",
        "    \n",
        "    plt.hist()\n",
        "    lim_inf = \n",
        "    lim_sup = \n",
        "    freqs = \n",
        "    \n",
        "    # el cuarto elemento debe dejarlo\n",
        "    return (lim_inf, lim_sup, freqs, plt.gcf())"
      ]
    },
    {
      "cell_type": "code",
      "execution_count": null,
      "metadata": {
        "id": "64VbZRvKGS-D"
      },
      "outputs": [],
      "source": [
        "# ver el histograma!\n",
        "plot_hist_and_get_freq_int(y)"
      ]
    },
    {
      "cell_type": "markdown",
      "metadata": {
        "id": "yMjO8msiGS-D"
      },
      "source": [
        "Debemos nuevamente partir el conjunto de muestras en entrenamiento y test y normalizar."
      ]
    },
    {
      "cell_type": "code",
      "execution_count": 22,
      "metadata": {
        "id": "LZqYZx3pGS-D"
      },
      "outputs": [],
      "source": [
        "Xtrain, Xtest, Ytrain, Ytest = train_test_split(x, y, test_size=0.3, random_state=1)\n",
        "\n",
        "#Normalizamos\n",
        "scaler = StandardScaler().fit(Xtrain)\n",
        "Xtrain = scaler.fit_transform(Xtrain)\n",
        "Xtest = scaler.transform(Xtest)"
      ]
    },
    {
      "attachments": {},
      "cell_type": "markdown",
      "metadata": {
        "id": "qj7a4s1fGS-E"
      },
      "source": [
        "## Ejercicio 2.2: \n",
        "\n",
        "Los modelos que provaremos en este taller son:\n",
        "\n",
        "- Linearn regression\n",
        "- K-NN"
      ]
    },
    {
      "cell_type": "markdown",
      "metadata": {
        "id": "OdAbVHzGGS-E"
      },
      "source": [
        "Carguemos los modelos restantes:"
      ]
    },
    {
      "cell_type": "code",
      "execution_count": 23,
      "metadata": {
        "id": "FA710sI4GS-E"
      },
      "outputs": [],
      "source": [
        "from sklearn.neighbors import KNeighborsRegressor\n",
        "from sklearn.linear_model import LinearRegression"
      ]
    },
    {
      "cell_type": "markdown",
      "metadata": {
        "id": "VyTLd0I_GS-E"
      },
      "source": [
        "Evaluemos el desempeño en todo el conjunto de test para diferentes hiperparámetros"
      ]
    },
    {
      "cell_type": "code",
      "execution_count": null,
      "metadata": {
        "id": "K4CqB_GVGS-E"
      },
      "outputs": [],
      "source": [
        "#Ejercicio de código\n",
        "from sklearn.metrics import mean_squared_error\n",
        "k = range(1,16)\n",
        "h = np.linspace(0.001,1,15)\n",
        "mse_knn = []\n",
        "mse_pw = []\n",
        "for i in range(len(k)):\n",
        "    clf1 = KNeighborsRegressor(n_neighbors=k[i]).fit(Xtrain,Ytrain)\n",
        "    y_pred_knn =\n",
        "    mse_knn.append(mean_squared_error(Ytest,y_pred_knn)) "
      ]
    },
    {
      "cell_type": "markdown",
      "metadata": {
        "id": "S-GpUDCGGS-F"
      },
      "source": [
        "Grafiquemos el resultado:"
      ]
    },
    {
      "cell_type": "code",
      "execution_count": null,
      "metadata": {
        "id": "YZroH-R4GS-F"
      },
      "outputs": [],
      "source": [
        "plt.figure(figsize=(10,5))\n",
        "plt.subplot(121)\n",
        "plt.plot(k,np.array(mse_knn))\n",
        "plt.title('Desempeño para el k-nn')\n",
        "plt.xlabel('Número de vecinos')\n",
        "plt.ylabel('MSE')\n",
        "plt.grid()"
      ]
    },
    {
      "cell_type": "code",
      "execution_count": null,
      "metadata": {
        "id": "3Om2kbo5GS-F"
      },
      "outputs": [],
      "source": [
        "print(f'Mejore resultado para k-nn {np.min(np.array(mse_knn))}')"
      ]
    },
    {
      "cell_type": "markdown",
      "metadata": {
        "id": "NA0g4h6xGS-F"
      },
      "source": [
        "Mida el desempeño de la regresión lineal:"
      ]
    },
    {
      "cell_type": "code",
      "execution_count": null,
      "metadata": {
        "id": "lS5sXXJ5GS-F"
      },
      "outputs": [],
      "source": [
        "#Ejercicio de código\n",
        "clf = LinearRegression().fit(Xtrain,Ytrain)\n",
        "y_pred_lr = clf.predict(Xtest)\n",
        "\n",
        "print(f'Mejore resultado para LR {mean_squared_error(Ytest,y_pred_lr)}')"
      ]
    },
    {
      "cell_type": "markdown",
      "metadata": {
        "id": "ytHgJIAvGS-G"
      },
      "source": [
        "En términos de error absoluto medio, ¿cuál es el nivel de error del mejor modelo?"
      ]
    },
    {
      "cell_type": "code",
      "execution_count": null,
      "metadata": {
        "id": "EqB1X7kUGS-G"
      },
      "outputs": [],
      "source": [
        "#Ejercicio de código\n",
        "\n"
      ]
    },
    {
      "cell_type": "code",
      "execution_count": null,
      "metadata": {
        "id": "dCCM1yKLGS-G"
      },
      "outputs": [],
      "source": [
        "#@title Pregunta Abierta\n",
        "#@markdown  Con base en los resultados obtenidos, ¿cuál considera que es el problema de los modelos paramétricos evaluados? \n",
        "respuesta_3 = \"\" #@param {type:\"string\"}"
      ]
    }
  ],
  "metadata": {
    "colab": {
      "provenance": []
    },
    "kernelspec": {
      "display_name": "base",
      "language": "python",
      "name": "python3"
    },
    "language_info": {
      "codemirror_mode": {
        "name": "ipython",
        "version": 3
      },
      "file_extension": ".py",
      "mimetype": "text/x-python",
      "name": "python",
      "nbconvert_exporter": "python",
      "pygments_lexer": "ipython3",
      "version": "3.11.5"
    },
    "varInspector": {
      "cols": {
        "lenName": 16,
        "lenType": 16,
        "lenVar": 40
      },
      "kernels_config": {
        "python": {
          "delete_cmd_postfix": "",
          "delete_cmd_prefix": "del ",
          "library": "var_list.py",
          "varRefreshCmd": "print(var_dic_list())"
        },
        "r": {
          "delete_cmd_postfix": ") ",
          "delete_cmd_prefix": "rm(",
          "library": "var_list.r",
          "varRefreshCmd": "cat(var_dic_list()) "
        }
      },
      "types_to_exclude": [
        "module",
        "function",
        "builtin_function_or_method",
        "instance",
        "_Feature"
      ],
      "window_display": false
    },
    "vscode": {
      "interpreter": {
        "hash": "4a86262a84c89eb5e2f9fa7ccca1fd520c0f88913a624a47ee78e08ae14b068c"
      }
    }
  },
  "nbformat": 4,
  "nbformat_minor": 0
}
